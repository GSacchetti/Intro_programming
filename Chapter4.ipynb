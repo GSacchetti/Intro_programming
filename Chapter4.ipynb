{
 "cells": [
  {
   "cell_type": "code",
   "execution_count": null,
   "id": "c0720619-e097-4181-940f-dddfc6560fe3",
   "metadata": {},
   "outputs": [],
   "source": [
    "#ISBN\n",
    "#Read a sequence of ISBN-10 codes and determine for each of them whether they correspond to valid ISBN-10 codes.\n",
    "\n",
    "while (input_ := input()) != 'stop':\n",
    "    x10 = sum((n + 1) * int(digit) for n, digit in enumerate(input_[:-1])) % 11\n",
    "    x10 = 'X' if x10 == 10 else str(x10)\n",
    "    \n",
    "    if x10 == input_[-1]:\n",
    "        print('OK')\n",
    "    else:\n",
    "        print('WRONG')"
   ]
  },
  {
   "cell_type": "code",
   "execution_count": null,
   "id": "645ef32e-8ad9-4d41-8feb-b6ed8955d8b1",
   "metadata": {},
   "outputs": [],
   "source": [
    "#Scrambled image\n",
    "#Give the t given lines where both segments before and after the separator are swapped, with the separator itself left out.\n",
    "\n",
    "separator = input()\n",
    "nb_lines = input()\n",
    "\n",
    "for n in range(int(nb_lines)):\n",
    "    input_line = input()\n",
    "    part1, part2 = input_line.split(separator)\n",
    "    print(part2 + part1)"
   ]
  },
  {
   "cell_type": "code",
   "execution_count": null,
   "id": "c7bb0220-0f2f-44a3-bb02-fd79ed5da6c7",
   "metadata": {},
   "outputs": [],
   "source": [
    "#Reading a pitch\n",
    "#Decode the message\n",
    "\n",
    "line = input()\n",
    "#y luaeb h o dtyo aoosgl\n",
    "curr_pos = int(input())\n",
    "step = int(input())\n",
    "\n",
    "decode = line[curr_pos]\n",
    "for n in range(len(line)-1):\n",
    "    if -(len(line)-1) > (curr_pos + step):\n",
    "        curr_pos = (curr_pos + step) + len(line)\n",
    "    elif (curr_pos + step) > (len(line)-1):\n",
    "        curr_pos = (curr_pos + step) - len(line)\n",
    "    else:\n",
    "        curr_pos = curr_pos + step\n",
    "    decode += line[curr_pos]"
   ]
  },
  {
   "cell_type": "code",
   "execution_count": null,
   "id": "206a9d69-5e60-4a0d-aa96-141792d3221f",
   "metadata": {},
   "outputs": [],
   "source": [
    "line = input()\n",
    "curr_pos = int(input())\n",
    "step = int(input())\n",
    "\n",
    "decode = ''\n",
    "n = len(line)\n",
    "\n",
    "for i in range(curr_pos, curr_pos + n * step, step):\n",
    "    decode += line[i % n]\n",
    "\n",
    "print(decode)"
   ]
  },
  {
   "cell_type": "code",
   "execution_count": null,
   "id": "3cd5cbc3-95a2-4cb4-a81c-95ce3ba0693a",
   "metadata": {},
   "outputs": [],
   "source": [
    "line = input()\n",
    "curr_pos = int(input())\n",
    "step = int(input())\n",
    "\n",
    "extended_line = line * len(line)\n",
    "decode = extended_line[curr_pos:curr_pos + len(line) * step:step]\n",
    "\n",
    "print(decode)"
   ]
  },
  {
   "cell_type": "code",
   "execution_count": null,
   "id": "99f7615b-5314-409e-b028-5576a4f20842",
   "metadata": {},
   "outputs": [],
   "source": [
    "#Word evolutions\n",
    "#Give the evolution from the given word to the word that starts with the given letter.\n",
    "\n",
    "word = input()\n",
    "start_letter = input()\n",
    "\n",
    "def get_pos(letter):\n",
    "    if letter.isupper():\n",
    "        return ord(letter) - ord('A')\n",
    "    else:\n",
    "        return ord(letter) - ord('a')\n",
    "\n",
    "length_line = (get_pos(start_letter) - get_pos(word[0]))%26\n",
    "for i in range(len(word)):\n",
    "    line = ''\n",
    "    curr_pos = get_pos(word[i])\n",
    "    for j in range(length_line + 1):\n",
    "        line += chr(ord('a') + curr_pos)\n",
    "        curr_pos = (curr_pos + 1) % 26\n",
    "    line = line.capitalize()\n",
    "    line = line[:-1] + line[-1].upper()\n",
    "    print(line)"
   ]
  },
  {
   "cell_type": "code",
   "execution_count": null,
   "id": "90c52d38-4284-4e06-a4bb-562a779eeae2",
   "metadata": {},
   "outputs": [],
   "source": [
    "#Mathemagical\n",
    "#Give the numbers obtained by suppressing each of the digits in m one by one (from left to right).\n",
    "\n",
    "number = input()\n",
    "\n",
    "def format_output(s):\n",
    "    if s.strip('0') == '':\n",
    "        return ' ' * (len(s) - 1) + '0'\n",
    "    else:\n",
    "        leading_zeros = len(s) - len(s.lstrip('0'))\n",
    "        return ' ' * leading_zeros + s.lstrip('0')\n",
    "    \n",
    "sum_nbs = 0\n",
    "for i in range(len(number)):\n",
    "    tmp_nb = number[:i] + number[i + 1:]\n",
    "    sum_nbs += int(tmp_nb)\n",
    "    if i == len(number) - 1:\n",
    "        print('+', format_output(tmp_nb))\n",
    "    else:\n",
    "        print(' ', format_output(tmp_nb))\n",
    "print('==' + '='*(len(number)-1))\n",
    "print('', sum_nbs)"
   ]
  },
  {
   "cell_type": "code",
   "execution_count": null,
   "id": "28bfdce5-3827-40dc-aa63-d65ab53ec9cf",
   "metadata": {},
   "outputs": [],
   "source": [
    "#Alchemical reaction\n",
    "#Give the alchemical reduction of the given polymer, followed by the number of units in the reduced polymer in between round brackets.\n",
    "polymer = input()\n",
    "\n",
    "reaction = []\n",
    "for unit in polymer:\n",
    "    if reaction and reaction[-1] != unit and reaction[-1].lower() == unit.lower():\n",
    "        reaction.pop()\n",
    "    else:\n",
    "        reaction.append(unit)\n",
    "        \n",
    "    reduced_polymer = ''.join(reaction)\n",
    "print(f'{reduced_polymer}({len(reduced_polymer)})')"
   ]
  }
 ],
 "metadata": {
  "kernelspec": {
   "display_name": "env",
   "language": "python",
   "name": "env"
  },
  "language_info": {
   "codemirror_mode": {
    "name": "ipython",
    "version": 3
   },
   "file_extension": ".py",
   "mimetype": "text/x-python",
   "name": "python",
   "nbconvert_exporter": "python",
   "pygments_lexer": "ipython3",
   "version": "3.10.14"
  }
 },
 "nbformat": 4,
 "nbformat_minor": 5
}
