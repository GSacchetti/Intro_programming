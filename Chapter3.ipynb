{
 "cells": [
  {
   "cell_type": "code",
   "execution_count": null,
   "id": "6ff26ed6-f9f2-43f0-84c6-de7c67b6daa6",
   "metadata": {},
   "outputs": [],
   "source": [
    "#Countdown\n",
    "#Write a program that inputs a positive integer N, and then prints the numbers N through 1, and then Liftoff!.\n",
    "\n",
    "countdown = int(input())\n",
    "\n",
    "for n in range(countdown):\n",
    "    print(countdown - n)\n",
    "print(\"Liftoff!\")"
   ]
  },
  {
   "cell_type": "code",
   "execution_count": null,
   "id": "4feb15b6-42aa-434a-83e3-106d2b3faaf6",
   "metadata": {},
   "outputs": [],
   "source": [
    "#Sum of squares\n",
    "#Write a program that inputs a positive integer N and then prints the sum of the squares of the numbers 1, …, N.\n",
    "\n",
    "integer = int(input())\n",
    "\n",
    "sum=0\n",
    "for n in range(integer + 1):\n",
    "    sum += n**2\n",
    "print(sum)"
   ]
  },
  {
   "cell_type": "code",
   "execution_count": null,
   "id": "3fa357b2-e51a-4014-881f-34de4e585a39",
   "metadata": {},
   "outputs": [],
   "source": [
    "#Sum total\n",
    "#Write a program that keeps inputting numbers until the number 0 is entered, and then prints the sum of the numbers.\n",
    "\n",
    "integer = int(input())\n",
    "sum = 0\n",
    "while integer != 0:\n",
    "    sum += integer\n",
    "    integer = int(input())\n",
    "print(sum)"
   ]
  },
  {
   "cell_type": "code",
   "execution_count": null,
   "id": "e86a29e9-dbc5-44d3-a78d-2dcfa988a116",
   "metadata": {},
   "outputs": [],
   "source": [
    "#Prime\n",
    "#Write a program that inputs a positive integer N and outputs prime if N is prime and not prime otherwise.\n",
    "#A number N is prime if, for each integer K greater than 1 and less than N, the remainder of dividing N by K is nonzero.\n",
    "\n",
    "N = int(input())\n",
    "if N > 1:\n",
    "    for K in range(2, (N//2)+1):\n",
    "        if (N % K) == 0:\n",
    "            print(\"not prime\")\n",
    "            break\n",
    "    else:\n",
    "        print(\"prime\")\n",
    "else:\n",
    "    print(\"not prime\")"
   ]
  },
  {
   "cell_type": "code",
   "execution_count": null,
   "id": "d2f072e7-e6e9-4e5c-b890-eadaae5de2ba",
   "metadata": {},
   "outputs": [],
   "source": [
    "#ISBN\n",
    "#Read a sequence of ISBN-10 codes and determine for each of them whether they correspond to valid ISBN-10 codes.\n",
    "\n",
    "input_ = input()\n",
    "sum_code = 0\n",
    "\n",
    "while input_ != 'stop':\n",
    "    counter = 1\n",
    "    sum_code = int(input_)\n",
    "    while counter != 9:\n",
    "        counter += 1\n",
    "        input_ = int(input())\n",
    "        sum_code += counter * input_\n",
    "        \n",
    "    input_ = input()\n",
    "    if int(input_) == sum_code%11:\n",
    "        input_ = input()\n",
    "        print('OK')"
   ]
  },
  {
   "cell_type": "code",
   "execution_count": null,
   "id": "16f2177d-9cea-4968-994b-59f1e7d47aab",
   "metadata": {},
   "outputs": [],
   "source": [
    "#Russian peasant\n",
    "#Give the consecutive rows that are produced by multiplying m and n using the Russian peasant method.\n",
    "\n",
    "m = int(input())\n",
    "n = int(input())\n",
    "\n",
    "product = 0\n",
    "while n != 0:\n",
    "    print(m,' ',n)\n",
    "    if n%2 != 0:\n",
    "        product += m\n",
    "    m = m*2\n",
    "    n = n//2\n",
    "print(product)"
   ]
  },
  {
   "cell_type": "code",
   "execution_count": null,
   "id": "e00798fa-e13d-4fac-8830-43c009ace5ae",
   "metadata": {},
   "outputs": [],
   "source": [
    "#Payslip\n",
    "#Give the amount that each worker whispers to the next worker if they apply the procedure.\n",
    "#And a final line containing the average salary of all workers.\n",
    "\n",
    "random_number = int(input())\n",
    "input_ = input()\n",
    "sum_salaries = random_number\n",
    "\n",
    "nb_workers=1\n",
    "while input_ != 'stop':\n",
    "    sum_salaries += int(input_)\n",
    "    print('worker #',nb_workers,' whispers €',sum_salaries, sep='')\n",
    "    input_ = input()\n",
    "    nb_workers += 1\n",
    "\n",
    "average_salary = (sum_salaries - random_number) / (nb_workers - 1)\n",
    "print(f'average salary: €{average_salary:.2f}')"
   ]
  },
  {
   "cell_type": "code",
   "execution_count": null,
   "id": "6a985fc5-7fda-4812-becb-b820e777824d",
   "metadata": {},
   "outputs": [],
   "source": [
    "#Conan the bacterium\n",
    "#Give for each experiment, a single line of output must be generated that indicates how many cells there are in the test tube at the end of the experiment, \n",
    "# and how many seconds the test tube has been radiated during the experiment.\n",
    "\n",
    "a = int(input())\n",
    "b = int(input())\n",
    "n = int(input()) \n",
    "t = int(input())\n",
    "\n",
    "first_exp = 1\n",
    "second_exp = t\n",
    "\n",
    "for time in range(n):\n",
    "    first_exp = a*first_exp + b\n",
    "print(f'experiment #1: {first_exp} cells after {n} seconds')\n",
    "\n",
    "time_exp2 = 0\n",
    "while second_exp < first_exp:\n",
    "    time_exp2 += 1"
   ]
  },
  {
   "cell_type": "code",
   "execution_count": null,
   "id": "ab25fdbf-81dc-4ab7-812c-40aa247da572",
   "metadata": {},
   "outputs": [],
   "source": [
    "#Challenger or crack\n",
    "#Decide based on the run of the game in a question round of De Canvascrack, whether the challenger or the crack wins the round.\n",
    "\n",
    "nb_questions = int(input())\n",
    "\n",
    "points_chal = 0\n",
    "points_crack = 0\n",
    "for n in range(nb_questions):\n",
    "    corr_ans = input()\n",
    "    chal_ans = input()\n",
    "    crack_ans = input()\n",
    "    \n",
    "    if chal_ans == corr_ans:\n",
    "        points_chal += 1\n",
    "        if crack_ans == 'correct':\n",
    "            points_crack += 1\n",
    "    else:\n",
    "        if crack_ans == 'wrong':\n",
    "            points_crack += 1\n",
    "if points_crack >= nb_questions/2:\n",
    "    if points_crack > points_chal:\n",
    "         print(f'crack wins {points_crack} points against {points_chal}')\n",
    "    elif points_chal > points_crack:\n",
    "        print(f'challenger wins {points_chal} points against {points_crack}')\n",
    "    else:\n",
    "        print(f'ex aequo: both contestants score {points_crack} points')\n",
    "else:\n",
    "    print(f'challenger wins {points_chal} points against {points_crack}')"
   ]
  },
  {
   "cell_type": "code",
   "execution_count": null,
   "id": "c2f2a594-2cac-42f3-b5cc-fc798d3e1d7f",
   "metadata": {},
   "outputs": [],
   "source": [
    "#Heat wave\n",
    "#Output the text heat wave if at least one heat wave was observed during the given period according to the definition of the KMI and KNMI, or the text no heat wave otherwise.\n",
    "\n",
    "input_ = input()\n",
    "\n",
    "heatwave=False\n",
    "above_25=0\n",
    "above_30=0\n",
    "while input_ != 'stop':\n",
    "    input_ = float(input_)\n",
    "    if input_ >= 25:\n",
    "        above_25 += 1\n",
    "    else:\n",
    "        above_25=0\n",
    "        above_30=0\n",
    "    if input_ >= 30:\n",
    "        above_30 += 1"
   ]
  }
 ],
 "metadata": {
  "kernelspec": {
   "display_name": "env",
   "language": "python",
   "name": "env"
  },
  "language_info": {
   "codemirror_mode": {
    "name": "ipython",
    "version": 3
   },
   "file_extension": ".py",
   "mimetype": "text/x-python",
   "name": "python",
   "nbconvert_exporter": "python",
   "pygments_lexer": "ipython3",
   "version": "3.10.14"
  }
 },
 "nbformat": 4,
 "nbformat_minor": 5
}
